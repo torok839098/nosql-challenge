{
 "cells": [
  {
   "cell_type": "markdown",
   "id": "9a57c4c6",
   "metadata": {},
   "source": [
    "# Eat Safe, Love"
   ]
  },
  {
   "cell_type": "markdown",
   "id": "064ef857",
   "metadata": {},
   "source": [
    "## Part 1: Database and Jupyter Notebook Set Up"
   ]
  },
  {
   "cell_type": "markdown",
   "id": "664e3c1f",
   "metadata": {},
   "source": [
    "Import the data provided in the `establishments.json` file from your Terminal. Name the database `uk_food` and the collection `establishments`.\n",
    "\n",
    "Within this markdown cell, copy the line of text you used to import the data from your Terminal. This way, future analysts will be able to repeat your process.\n",
    "\n",
    "e.g.: Import the dataset with `YOUR IMPORT TEXT HERE`\n",
    "import text: \n",
    "\n",
    "mongoimport --type json -d uk_food -c establishments --file /Users/pcn08/ucb/homework/nosql-challenge/Module_12_Files/Resources/establishments.json --drop --jsonArray"
   ]
  },
  {
   "cell_type": "code",
   "execution_count": null,
   "id": "101f4831",
   "metadata": {},
   "outputs": [],
   "source": [
    "#or mongoimport --db uk_food --collection establishments --file establishments.json --jsonArray"
   ]
  },
  {
   "cell_type": "code",
   "execution_count": 5,
   "id": "3ecdd008",
   "metadata": {},
   "outputs": [],
   "source": [
    "# Import dependencies\n",
    "from pymongo import MongoClient\n",
    "from pprint import pprint"
   ]
  },
  {
   "cell_type": "code",
   "execution_count": 6,
   "id": "59390c4a",
   "metadata": {},
   "outputs": [],
   "source": [
    "# Create an instance of MongoClient\n",
    "mongo = MongoClient(port=27017)"
   ]
  },
  {
   "cell_type": "code",
   "execution_count": null,
   "id": "a5dea723",
   "metadata": {},
   "outputs": [],
   "source": [
    "# confirm that our new database was created\n",
    "#On the mongosh terminal\n",
    "show dbs"
   ]
  },
  {
   "cell_type": "code",
   "execution_count": null,
   "id": "71e373c1",
   "metadata": {},
   "outputs": [],
   "source": [
    "# assign the uk_food database to a variable name\n",
    "db = mongo['uk_food']"
   ]
  },
  {
   "cell_type": "code",
   "execution_count": null,
   "id": "ef1b89ed",
   "metadata": {},
   "outputs": [],
   "source": [
    "# review the collections in our new database\n",
    "show collections"
   ]
  },
  {
   "cell_type": "code",
   "execution_count": null,
   "id": "18ab463c",
   "metadata": {},
   "outputs": [],
   "source": [
    "# review the collections in our new database\n",
    "show collections"
   ]
  },
  {
   "cell_type": "code",
   "execution_count": null,
   "id": "6a0d92df",
   "metadata": {},
   "outputs": [],
   "source": [
    "# review a document in the establishments collection\n"
   ]
  },
  {
   "cell_type": "code",
   "execution_count": null,
   "id": "5e32322b",
   "metadata": {},
   "outputs": [],
   "source": [
    "db.establishments.find()"
   ]
  },
  {
   "cell_type": "code",
   "execution_count": null,
   "id": "72134851",
   "metadata": {},
   "outputs": [],
   "source": []
  },
  {
   "cell_type": "code",
   "execution_count": null,
   "id": "11c9f11b",
   "metadata": {},
   "outputs": [],
   "source": [
    "# assign the collection to a variable\n",
    "establishments = db['establishments']"
   ]
  },
  {
   "cell_type": "markdown",
   "id": "d5671434",
   "metadata": {},
   "source": [
    "## Part 2: Update the Database"
   ]
  },
  {
   "cell_type": "markdown",
   "id": "314bd884",
   "metadata": {},
   "source": [
    "1. An exciting new halal restaurant just opened in Greenwich, but hasn't been rated yet. The magazine has asked you to include it in your analysis. Add the following restaurant \"Penang Flavours\" to the database."
   ]
  },
  {
   "cell_type": "code",
   "execution_count": null,
   "id": "c2da7648",
   "metadata": {},
   "outputs": [],
   "source": [
    "# Create a dictionary for the new restaurant data\n"
   ]
  },
  {
   "cell_type": "code",
   "execution_count": null,
   "id": "79b9c448",
   "metadata": {},
   "outputs": [],
   "source": [
    "{\n",
    "    \"BusinessName\":\"Penang Flavours\",\n",
    "    \"BusinessType\":\"Restaurant/Cafe/Canteen\",\n",
    "    \"BusinessTypeID\":\"\",\n",
    "    \"AddressLine1\":\"Penang Flavours\",\n",
    "    \"AddressLine2\":\"146A Plumstead Rd\",\n",
    "    \"AddressLine3\":\"London\",\n",
    "    \"AddressLine4\":\"\",\n",
    "    \"PostCode\":\"SE18 7DY\",\n",
    "    \"Phone\":\"\",\n",
    "    \"LocalAuthorityCode\":\"511\",\n",
    "    \"LocalAuthorityName\":\"Greenwich\",\n",
    "    \"LocalAuthorityWebSite\":\"http://www.royalgreenwich.gov.uk\",\n",
    "    \"LocalAuthorityEmailAddress\":\"health@royalgreenwich.gov.uk\",\n",
    "    \"scores\":{\n",
    "        \"Hygiene\":\"\",\n",
    "        \"Structural\":\"\",\n",
    "        \"ConfidenceInManagement\":\"\"\n",
    "    },\n",
    "    \"SchemeType\":\"FHRS\",\n",
    "    \"geocode\":{\n",
    "        \"longitude\":\"0.08384000\",\n",
    "        \"latitude\":\"51.49014200\"\n",
    "    },\n",
    "    \"RightToReply\":\"\",\n",
    "    \"Distance\":4623.9723280747176,\n",
    "    \"NewRatingPending\":true\n",
    "}"
   ]
  },
  {
   "cell_type": "code",
   "execution_count": null,
   "id": "4fce9084",
   "metadata": {},
   "outputs": [],
   "source": [
    "  insertedId: ObjectId(\"65bc4d90eab55afa0e2bb833\")\n",
    "}\n",
    "uk_food> db.establishments.find({_id: ObjectId(\"65bc4d90eab55afa0e2bb833\")})"
   ]
  },
  {
   "cell_type": "code",
   "execution_count": null,
   "id": "a6e5cece",
   "metadata": {},
   "outputs": [],
   "source": [
    "# Insert the new restaurant into the collection\n",
    "db.establishments.insertOne({\n",
    "    \"BusinessName\":\"Penang Flavours\",\n",
    "    \"BusinessType\":\"Restaurant/Cafe/Canteen\",\n",
    "    \"BusinessTypeID\":\"\",\n",
    "    \"AddressLine1\":\"Penang Flavours\",\n",
    "    \"AddressLine2\":\"146A Plumstead Rd\",\n",
    "    \"AddressLine3\":\"London\",\n",
    "    \"AddressLine4\":\"\",\n",
    "    \"PostCode\":\"SE18 7DY\",\n",
    "    \"Phone\":\"\",\n",
    "    \"LocalAuthorityCode\":\"511\",\n",
    "    \"LocalAuthorityName\":\"Greenwich\",\n",
    "    \"LocalAuthorityWebSite\":\"http://www.royalgreenwich.gov.uk\",\n",
    "    \"LocalAuthorityEmailAddress\":\"health@royalgreenwich.gov.uk\",\n",
    "    \"scores\":{\n",
    "        \"Hygiene\":\"\",\n",
    "        \"Structural\":\"\",\n",
    "        \"ConfidenceInManagement\":\"\"\n",
    "    },\n",
    "    \"SchemeType\":\"FHRS\",\n",
    "    \"geocode\":{\n",
    "        \"longitude\":\"0.08384000\",\n",
    "        \"latitude\":\"51.49014200\"\n",
    "    },\n",
    "    \"RightToReply\":\"\",\n",
    "    \"Distance\":4623.9723280747176,\n",
    "    \"NewRatingPending\":true\n",
    "})\n",
    "\n",
    "#had to change True to true for it to work on Mongosh "
   ]
  },
  {
   "cell_type": "code",
   "execution_count": null,
   "id": "63bb10f9",
   "metadata": {},
   "outputs": [],
   "source": [
    "# Check that the new restaurant was inserted\n",
    "db.establishments.find({_id: ObjectId(\"65bc4d90eab55afa0e2bb833\")})"
   ]
  },
  {
   "cell_type": "markdown",
   "id": "0ef4395a",
   "metadata": {},
   "source": [
    "2. Find the BusinessTypeID for \"Restaurant/Cafe/Canteen\" and return only the `BusinessTypeID` and `BusinessType` fields."
   ]
  },
  {
   "cell_type": "code",
   "execution_count": null,
   "id": "93c63829",
   "metadata": {},
   "outputs": [],
   "source": [
    "# Find the BusinessTypeID for \"Restaurant/Cafe/Canteen\" and return only the BusinessTypeID and BusinessType fields\n"
   ]
  },
  {
   "cell_type": "code",
   "execution_count": null,
   "id": "bb2477a5",
   "metadata": {},
   "outputs": [],
   "source": [
    "db.establishments.find({BusinessType:'Restaurant/Cafe/Canteen'})"
   ]
  },
  {
   "cell_type": "markdown",
   "id": "4e570caf",
   "metadata": {},
   "source": [
    "3. Update the new restaurant with the `BusinessTypeID` you found."
   ]
  },
  {
   "cell_type": "code",
   "execution_count": null,
   "id": "7f599f3d",
   "metadata": {},
   "outputs": [],
   "source": [
    "# Update the new restaurant with the correct BusinessTypeID\n"
   ]
  },
  {
   "cell_type": "code",
   "execution_count": null,
   "id": "2e733f74",
   "metadata": {},
   "outputs": [],
   "source": [
    "db.establishments.updateOne({_id: ObjectId (\"65bc4d90eab55afa0e2bb833\")}, {$set: {\"BusinessTypeID\": 1}})"
   ]
  },
  {
   "cell_type": "code",
   "execution_count": null,
   "id": "a6ad16f7",
   "metadata": {},
   "outputs": [],
   "source": [
    "# Confirm that the new restaurant was updated\n",
    "db.establishments.find({\"BusinessName\":\"Penang Flavours\",\"BusinessTypeID\": 1})"
   ]
  },
  {
   "cell_type": "markdown",
   "id": "67281254",
   "metadata": {},
   "source": [
    "4. The magazine is not interested in any establishments in Dover, so check how many documents contain the Dover Local Authority. Then, remove any establishments within the Dover Local Authority from the database, and check the number of documents to ensure they were deleted."
   ]
  },
  {
   "cell_type": "code",
   "execution_count": null,
   "id": "768474a6",
   "metadata": {},
   "outputs": [],
   "source": [
    "# Find how many documents have LocalAuthorityName as \"Dover\"\n",
    "db.establishments.find({\"LocalAuthorityName\":\"Dover\"})"
   ]
  },
  {
   "cell_type": "code",
   "execution_count": null,
   "id": "a11d5f1b",
   "metadata": {},
   "outputs": [],
   "source": [
    "# Delete all documents where LocalAuthorityName is \"Dover\"\n",
    "db.establishments.deleteMany({\"LocalAuthorityName\":\"Dover\"})"
   ]
  },
  {
   "cell_type": "code",
   "execution_count": null,
   "id": "2a51aba0",
   "metadata": {},
   "outputs": [],
   "source": [
    "# Check if any remaining documents include Dover\n",
    "db.establishments.find({\"LocalAuthorityName\":\"Dover\"})"
   ]
  },
  {
   "cell_type": "code",
   "execution_count": null,
   "id": "8c356f7b",
   "metadata": {},
   "outputs": [],
   "source": [
    "# Check that other documents remain with 'find_one'\n",
    "db.establishments.findOne({\"LocalAuthorityName\": \"Dover\"})"
   ]
  },
  {
   "cell_type": "markdown",
   "id": "e9f1662d",
   "metadata": {},
   "source": [
    "5. Some of the number values are stored as strings, when they should be stored as numbers."
   ]
  },
  {
   "cell_type": "markdown",
   "id": "c46df2df",
   "metadata": {},
   "source": [
    "Use `update_many` to convert `latitude` and `longitude` to decimal numbers."
   ]
  },
  {
   "cell_type": "code",
   "execution_count": null,
   "id": "fd4112ce",
   "metadata": {},
   "outputs": [],
   "source": [
    "# Change the data type from String to Decimal for longitude and latitude\n"
   ]
  },
  {
   "cell_type": "code",
   "execution_count": null,
   "id": "4c4d3266",
   "metadata": {},
   "outputs": [],
   "source": [
    "db.establishments.updateMany({}, [ {'$set':{ \"geocode.longitude\" : {'$toInt': \"$geocode.longitude\"}}} ])"
   ]
  },
  {
   "cell_type": "code",
   "execution_count": null,
   "id": "4c01fa06",
   "metadata": {},
   "outputs": [],
   "source": [
    "db.establishments.updateMany({}, [\n",
    "  { '$set': { \"geocode.longitude\": { '$toDouble': \"$geocode.longitude\" }, \"geocode.latitude\": { '$toDouble': \"$geocode.latitude\" } } }\n",
    "])\n"
   ]
  },
  {
   "cell_type": "markdown",
   "id": "142e319c",
   "metadata": {},
   "source": [
    "Use `update_many` to convert `RatingValue` to integer numbers."
   ]
  },
  {
   "cell_type": "code",
   "execution_count": null,
   "id": "04430a5b",
   "metadata": {},
   "outputs": [],
   "source": [
    "# Set non 1-5 Rating Values to Null\n",
    "non_ratings = [\"AwaitingInspection\", \"Awaiting Inspection\", \"AwaitingPublication\", \"Pass\", \"Exempt\"]\n",
    "establishments.update_many({\"RatingValue\": {\"$in\": non_ratings}}, [ {'$set':{ \"RatingValue\" : None}} ])"
   ]
  },
  {
   "cell_type": "code",
   "execution_count": null,
   "id": "92524ccc",
   "metadata": {},
   "outputs": [],
   "source": [
    "# Change the data type from String to Integer for RatingValue\n"
   ]
  },
  {
   "cell_type": "code",
   "execution_count": null,
   "id": "9ba4e6a3",
   "metadata": {},
   "outputs": [],
   "source": [
    "db.establishments.update_many({}, [ {'$set': { \"RatingValue\" :{'$toInt': \"$RatingValue\"}\n",
    "                                              } \n",
    "                                     } ]\n",
    "                              )"
   ]
  },
  {
   "cell_type": "code",
   "execution_count": null,
   "id": "498b6e8c",
   "metadata": {},
   "outputs": [],
   "source": [
    "non_ratings = [\"AwaitingInspection\", \"Awaiting Inspection\", \"AwaitingPublication\", \"Pass\", \"Exempt\"]\n",
    "\n",
    "db.establishments.updateMany(\n",
    "    {\n",
    "        \"RatingValue\": {\n",
    "            \"$exists\": true,\n",
    "            \"$nin\": non_ratings\n",
    "        }\n",
    "    },\n",
    "    [\n",
    "        {\n",
    "            \"$set\": {\n",
    "                \"RatingValue\": {\n",
    "                    \"$toInt\": \"$RatingValue\"\n",
    "                }\n",
    "            }\n",
    "        }\n",
    "    ]\n",
    ")\n"
   ]
  },
  {
   "cell_type": "code",
   "execution_count": null,
   "id": "0deacaf9",
   "metadata": {},
   "outputs": [],
   "source": [
    "# Check that the coordinates and rating value are now numbers\n"
   ]
  },
  {
   "cell_type": "code",
   "execution_count": null,
   "id": "c018b463",
   "metadata": {},
   "outputs": [],
   "source": [
    "db.establishments.find({\n",
    "  \"geocode.latitude\": { \"$type\": \"double\" },\n",
    "  \"geocode.longitude\": { \"$type\": \"double\" }\n",
    "})\n",
    "\n",
    "db.establishments.find({\n",
    "  \"RatingValue\": { \"$type\": \"int\" }"
   ]
  },
  {
   "cell_type": "markdown",
   "id": "ef2a0e30",
   "metadata": {},
   "source": [
    "Notes: I used the actvitities covered in class to help me figure out the correct queries, see unit xyz for example. For multiple queries, I found this website that was useful (see line xyz), https://developerslogblog.wordpress.com/2019/10/15/mongodb-how-to-filter-by-multiple-fields/ "
   ]
  }
 ],
 "metadata": {
  "kernelspec": {
   "display_name": "Python 3 (ipykernel)",
   "language": "python",
   "name": "python3"
  },
  "language_info": {
   "codemirror_mode": {
    "name": "ipython",
    "version": 3
   },
   "file_extension": ".py",
   "mimetype": "text/x-python",
   "name": "python",
   "nbconvert_exporter": "python",
   "pygments_lexer": "ipython3",
   "version": "3.11.5"
  }
 },
 "nbformat": 4,
 "nbformat_minor": 5
}
